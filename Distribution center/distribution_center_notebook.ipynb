{
 "cells": [
  {
   "cell_type": "markdown",
   "metadata": {},
   "source": [
    "# Distribution center"
   ]
  },
  {
   "cell_type": "markdown",
   "metadata": {},
   "source": [
    "### Import libraries"
   ]
  },
  {
   "cell_type": "code",
   "execution_count": null,
   "metadata": {},
   "outputs": [],
   "source": [
    "#Import pandas\n",
    "import pandas as pd"
   ]
  },
  {
   "cell_type": "markdown",
   "metadata": {},
   "source": [
    "### Read data from url"
   ]
  },
  {
   "cell_type": "code",
   "execution_count": null,
   "metadata": {},
   "outputs": [],
   "source": [
    "#Url with Uruguay postal codes \n",
    "url = 'https://www.correo.com.uy/IsisBusquedaDireccionPlugin/localidades.jsp'\n",
    "#Store Data Frame\n",
    "df_uy = pd.read_excel(url,header=1)\n",
    "#Print message\n",
    "print('Data stored')"
   ]
  },
  {
   "cell_type": "markdown",
   "metadata": {},
   "source": [
    "### Modify dataframe"
   ]
  },
  {
   "cell_type": "code",
   "execution_count": null,
   "metadata": {},
   "outputs": [],
   "source": [
    "#Rename columns\n",
    "headers =['Department', 'Neighborhood', 'PostalCode']\n",
    "df_uy.columns = headers\n",
    "#Change first character of each word to uppercase and remaining to lowercase in Borough and Neighborhood cells\n",
    "df_uy['Department'] = df_uy['Department'].str.title()\n",
    "df_uy['Neighborhood'] = df_uy['Neighborhood'].str.title()\n",
    "#Change columns order in data frame\n",
    "df_uy = df_uy[[\"PostalCode\", \"Department\", \"Neighborhood\"]]"
   ]
  },
  {
   "cell_type": "markdown",
   "metadata": {},
   "source": [
    "### Print dimensions and search for null values"
   ]
  },
  {
   "cell_type": "code",
   "execution_count": null,
   "metadata": {},
   "outputs": [],
   "source": [
    "#Print number of rows\n",
    "print('Number of rows: '+str(df_uy.shape[0]))\n",
    "#Print number of columns\n",
    "print('Number of columns: '+str(df_uy.shape[1]))\n",
    "#Print number of null values\n",
    "print('Null values in dataframe:')\n",
    "print(str(df_uy.isnull().sum()))"
   ]
  },
  {
   "cell_type": "markdown",
   "metadata": {},
   "source": [
    "### Create a dataframe with Montevideo postal codes and neighborhoods"
   ]
  },
  {
   "cell_type": "code",
   "execution_count": null,
   "metadata": {},
   "outputs": [],
   "source": [
    "#Save Montevideo postal codes and neighborhoods in df_mvd\n",
    "df_mvd = df_uy.loc[df_uy['Department']=='Montevideo',['PostalCode','Neighborhood']]\n",
    "#Combined rows with equal \"PostalCode\" values and apply function to each 'Neighborhood' cell  \n",
    "df_mvd.groupby('PostalCode')['Neighborhood'].apply(lambda x: \"%s\" % ', '.join(x))\n",
    "#Restar index values\n",
    "df_mvd.reset_index(drop=True,inplace=True)\n",
    "#Print number of rows\n",
    "print('Number of rows: '+str(df_mvd.shape))"
   ]
  },
  {
   "cell_type": "markdown",
   "metadata": {},
   "source": [
    "### Import libraries"
   ]
  },
  {
   "cell_type": "code",
   "execution_count": null,
   "metadata": {},
   "outputs": [],
   "source": [
    "import numpy as np # library to handle data in a vectorized manner\n",
    "\n",
    "import pandas as pd # library for data analsysis\n",
    "pd.set_option('display.max_columns', None)\n",
    "pd.set_option('display.max_rows', None)\n",
    "\n",
    "import json # library to handle JSON files\n",
    "\n",
    "#!conda install -c conda-forge geopy --yes # uncomment this line if you haven't completed the Foursquare API lab\n",
    "from geopy.geocoders import Nominatim # convert an address into latitude and longitude values\n",
    "\n",
    "import requests # library to handle requests\n",
    "from pandas.io.json import json_normalize # tranform JSON file into a pandas dataframe\n",
    "\n",
    "# Matplotlib and associated plotting modules\n",
    "import matplotlib.cm as cm\n",
    "import matplotlib.colors as colors\n",
    "\n",
    "# import k-means from clustering stage\n",
    "from sklearn.cluster import KMeans\n",
    "\n",
    "#!conda install -c conda-forge folium=0.5.0 --yes # uncomment this line if you haven't completed the Foursquare API lab\n",
    "import folium # map rendering library\n",
    "\n",
    "print('Libraries imported.')"
   ]
  },
  {
   "cell_type": "markdown",
   "metadata": {},
   "source": [
    "### Store coordinates of each location in Montevideo"
   ]
  },
  {
   "cell_type": "code",
   "execution_count": null,
   "metadata": {
    "scrolled": true
   },
   "outputs": [],
   "source": [
    "#Create 'Latitude' and 'Longitude 'columns\n",
    "df_mvd['Latitude']=None\n",
    "df_mvd['Longitude']=None\n",
    "\n",
    "#Iterate over df_mvd with index value of each row as the iterator\n",
    "for i in df_mvd.index:\n",
    "    address = str(df_mvd.loc[i,'PostalCode'])+',Montevideo,UY'\n",
    "    geolocator = Nominatim(user_agent=\"to_explorer\", timeout=3)\n",
    "    location = geolocator.geocode(address)\n",
    "#Store coordinates of each location\n",
    "    df_mvd.loc[i,'Latitude']=location.latitude\n",
    "    df_mvd.loc[i,'Longitude']=location.longitude\n",
    "print('Coordinates stored')"
   ]
  },
  {
   "cell_type": "markdown",
   "metadata": {},
   "source": [
    "### Foursquare credentials"
   ]
  },
  {
   "cell_type": "code",
   "execution_count": null,
   "metadata": {},
   "outputs": [],
   "source": [
    "CLIENT_ID = '#####' # your Foursquare ID\n",
    "CLIENT_SECRET = '#####' # your Foursquare Secret\n",
    "VERSION = '20180604'\n",
    "LIMIT = 30\n",
    "print('Your credentails:')\n",
    "print('CLIENT_ID: ' + CLIENT_ID)\n",
    "print('CLIENT_SECRET:' + CLIENT_SECRET)"
   ]
  },
  {
   "cell_type": "markdown",
   "metadata": {},
   "source": [
    "### Create function to explore neighborhoods"
   ]
  },
  {
   "cell_type": "code",
   "execution_count": null,
   "metadata": {},
   "outputs": [],
   "source": [
    "def getNearbyVenues(names, latitudes, longitudes, radius=500):\n",
    "    venues_list=[]\n",
    "    for name, lat, lng in zip(names, latitudes, longitudes):\n",
    "        print(name)\n",
    "            \n",
    "        # create the API request URL\n",
    "        url = 'https://api.foursquare.com/v2/venues/explore?&client_id={}&client_secret={}&v={}&ll={},{}&radius={}&limit={}'.format(\n",
    "            CLIENT_ID, \n",
    "            CLIENT_SECRET, \n",
    "            VERSION, \n",
    "            lat, \n",
    "            lng, \n",
    "            radius, \n",
    "            LIMIT)\n",
    "            \n",
    "        # make the GET request\n",
    "        results = requests.get(url).json()[\"response\"]['groups'][0]['items']\n",
    "        \n",
    "        # return only relevant information for each nearby venue\n",
    "        venues_list.append([(\n",
    "            name, \n",
    "            lat, \n",
    "            lng, \n",
    "            v['venue']['name'], \n",
    "            v['venue']['location']['lat'], \n",
    "            v['venue']['location']['lng'],  \n",
    "            v['venue']['categories'][0]['name']) for v in results])\n",
    "\n",
    "    nearby_venues = pd.DataFrame([item for venue_list in venues_list for item in venue_list])\n",
    "    nearby_venues.columns = ['Neighborhood', \n",
    "                  'Neighborhood Latitude', \n",
    "                  'Neighborhood Longitude', \n",
    "                  'Venue', \n",
    "                  'Venue Latitude', \n",
    "                  'Venue Longitude', \n",
    "                  'Venue Category']\n",
    "    \n",
    "    return(nearby_venues)"
   ]
  },
  {
   "cell_type": "code",
   "execution_count": null,
   "metadata": {},
   "outputs": [],
   "source": [
    "mvd_venues = getNearbyVenues(names=df_mvd['Neighborhood'],\n",
    "                                 latitudes=df_mvd['Latitude'],\n",
    "                                 longitudes=df_mvd['Longitude'])"
   ]
  },
  {
   "cell_type": "markdown",
   "metadata": {},
   "source": [
    "### Check the size of the resulting dataframe"
   ]
  },
  {
   "cell_type": "code",
   "execution_count": null,
   "metadata": {},
   "outputs": [],
   "source": [
    "#Check the size of the resulting dataframe\n",
    "print(mvd_venues.shape)\n",
    "mvd_venues.head()"
   ]
  },
  {
   "cell_type": "markdown",
   "metadata": {},
   "source": [
    "### Check number of venues by category"
   ]
  },
  {
   "cell_type": "code",
   "execution_count": null,
   "metadata": {
    "scrolled": true
   },
   "outputs": [],
   "source": [
    "mvd_venues['Venue Category'].value_counts()"
   ]
  },
  {
   "cell_type": "markdown",
   "metadata": {},
   "source": [
    "### Check how many unique categories can be curated from all the returned venues"
   ]
  },
  {
   "cell_type": "code",
   "execution_count": null,
   "metadata": {},
   "outputs": [],
   "source": [
    "print('There are {} uniques categories.'.format(len(mvd_venues['Venue Category'].unique())))"
   ]
  },
  {
   "cell_type": "markdown",
   "metadata": {},
   "source": [
    "### Filter venue categories: 'Supermarket' , 'Shopping Mall' , 'Farmers Market' and 'Convenience Store'"
   ]
  },
  {
   "cell_type": "code",
   "execution_count": null,
   "metadata": {
    "scrolled": false
   },
   "outputs": [],
   "source": [
    "mvd_venues = mvd_venues[mvd_venues['Venue Category'].isin(['Supermarket','Shopping Mall','Farmers Market','Convenience Store'])]\n",
    "mvd_venues.head()"
   ]
  },
  {
   "cell_type": "markdown",
   "metadata": {},
   "source": [
    "### Check number of venues by selected category"
   ]
  },
  {
   "cell_type": "code",
   "execution_count": null,
   "metadata": {
    "scrolled": true
   },
   "outputs": [],
   "source": [
    "mvd_venues['Venue Category'].value_counts()"
   ]
  },
  {
   "cell_type": "markdown",
   "metadata": {},
   "source": [
    "### Plot number of venues by selected categories"
   ]
  },
  {
   "cell_type": "code",
   "execution_count": null,
   "metadata": {
    "scrolled": true
   },
   "outputs": [],
   "source": [
    "#Import pyplot module\n",
    "import matplotlib.pyplot as plt\n",
    "\n",
    "#Store number of venues by category\n",
    "c_venues = mvd_venues['Venue Category'].value_counts()\n",
    "\n",
    "# step 2: plot data\n",
    "c_venues.plot(kind='bar', figsize=(10, 6))\n",
    "\n",
    "plt.xlabel('Venues') # add to x-label to the plot\n",
    "plt.ylabel('Number of venues') # add y-label to the plot\n",
    "plt.title('Venues in Montevideo') # add title to the plot\n",
    "\n",
    "plt.show()"
   ]
  },
  {
   "cell_type": "markdown",
   "metadata": {},
   "source": [
    "### Check how many venues were returned for each neighborhood"
   ]
  },
  {
   "cell_type": "code",
   "execution_count": null,
   "metadata": {
    "scrolled": true
   },
   "outputs": [],
   "source": [
    "mvd_venues['Neighborhood'].value_counts()"
   ]
  },
  {
   "cell_type": "markdown",
   "metadata": {},
   "source": [
    "### Plot number of venues by neighborhoods"
   ]
  },
  {
   "cell_type": "code",
   "execution_count": null,
   "metadata": {
    "scrolled": true
   },
   "outputs": [],
   "source": [
    "#Import pyplot module\n",
    "import matplotlib.pyplot as plt\n",
    "\n",
    "#Store number of venues by category\n",
    "n_venues = mvd_venues['Neighborhood'].value_counts()\n",
    "\n",
    "# step 2: plot data\n",
    "n_venues.plot(kind='bar', figsize=(10, 6))\n",
    "\n",
    "plt.xlabel('Neighborhood') # add to x-label to the plot\n",
    "plt.ylabel('Number of venues') # add y-label to the plot\n",
    "plt.title('Venues by Neighborhood') # add title to the plot\n",
    "\n",
    "plt.show()"
   ]
  },
  {
   "cell_type": "markdown",
   "metadata": {},
   "source": [
    "### Analyze Each Neighborhood"
   ]
  },
  {
   "cell_type": "code",
   "execution_count": null,
   "metadata": {
    "scrolled": true
   },
   "outputs": [],
   "source": [
    "# one hot encoding\n",
    "mvd_onehot = pd.get_dummies(mvd_venues[['Venue Category']], prefix=\"\", prefix_sep=\"\")\n",
    "\n",
    "# add neighborhood column back to dataframe\n",
    "mvd_onehot['Neighborhood'] = mvd_venues['Neighborhood'] \n",
    "\n",
    "# move neighborhood column to the first column\n",
    "fixed_columns = [mvd_onehot.columns[-1]] + mvd_onehot.columns[:-1].tolist()\n",
    "mvd_onehot = mvd_onehot[fixed_columns]\n",
    "\n",
    "mvd_onehot.head()"
   ]
  },
  {
   "cell_type": "markdown",
   "metadata": {},
   "source": [
    "### Plot categories by neighbourhood (Top 5)"
   ]
  },
  {
   "cell_type": "code",
   "execution_count": null,
   "metadata": {
    "scrolled": true
   },
   "outputs": [],
   "source": [
    "import numpy as np\n",
    "\n",
    "#5 neighboorhoods with highest quantity of venues\n",
    "labels = ['Tres Cruces', 'Ciudad Vieja', 'Cordon', 'La Comercial', 'Aguada']\n",
    "\n",
    "mvd_venues_n = mvd_onehot.groupby(['Neighborhood']).sum()\n",
    "\n",
    "cs_means = mvd_venues_n.loc[['Tres Cruces', 'Ciudad Vieja', 'Cordon', 'La Comercial', 'Aguada'],'Convenience Store']\n",
    "fm_means = mvd_venues_n.loc[['Tres Cruces', 'Ciudad Vieja', 'Cordon', 'La Comercial', 'Aguada'],'Farmers Market']\n",
    "sh_means = mvd_venues_n.loc[['Tres Cruces', 'Ciudad Vieja', 'Cordon', 'La Comercial', 'Aguada'],'Shopping Mall']\n",
    "sm_means = mvd_venues_n.loc[['Tres Cruces', 'Ciudad Vieja', 'Cordon', 'La Comercial', 'Aguada'],'Supermarket']\n",
    "\n",
    "x = np.arange(len(labels))  # the label locations\n",
    "width = 0.20  # the width of the bars\n",
    "\n",
    "fig, ax = plt.subplots()\n",
    "rects1 = ax.bar(x - width*3/2, cs_means, width, label='Convenience Store')\n",
    "rects2 = ax.bar(x - width/2, fm_means, width, label='Farmers Market')\n",
    "rects3 = ax.bar(x + width/2, sh_means, width, label='Shopping Mall')\n",
    "rects4 = ax.bar(x + width*3/2, sm_means, width, label='Supermarket')\n",
    "\n",
    "# Add some text for labels, title and custom x-axis tick labels, etc.\n",
    "ax.set_ylabel('Number of venues')\n",
    "ax.set_title('Venues by neighborhood')\n",
    "ax.set_xticks(x)\n",
    "ax.set_xticklabels(labels)\n",
    "ax.legend()\n",
    "\n",
    "\n",
    "def autolabel(rects):\n",
    "    \"\"\"Attach a text label above each bar in *rects*, displaying its height.\"\"\"\n",
    "    for rect in rects:\n",
    "        height = rect.get_height()\n",
    "        ax.annotate('{}'.format(height),\n",
    "                    xy=(rect.get_x() + rect.get_width() / 4, height),\n",
    "                    xytext=(0, 3),  # 3 points vertical offset\n",
    "                    textcoords=\"offset points\",\n",
    "                    ha='center', va='bottom')\n",
    "\n",
    "\n",
    "autolabel(rects1)\n",
    "autolabel(rects2)\n",
    "autolabel(rects3)\n",
    "autolabel(rects4)\n",
    "\n",
    "fig.tight_layout()\n",
    "\n",
    "plt.show()"
   ]
  },
  {
   "cell_type": "markdown",
   "metadata": {},
   "source": [
    "### Examine the new dataframe size."
   ]
  },
  {
   "cell_type": "code",
   "execution_count": null,
   "metadata": {},
   "outputs": [],
   "source": [
    "mvd_onehot.shape"
   ]
  },
  {
   "cell_type": "code",
   "execution_count": null,
   "metadata": {},
   "outputs": [],
   "source": [
    "mvd_onehot.groupby"
   ]
  },
  {
   "cell_type": "markdown",
   "metadata": {},
   "source": [
    "### Group rows by neighborhood and by taking the mean of the frequency of occurrence of each category"
   ]
  },
  {
   "cell_type": "code",
   "execution_count": null,
   "metadata": {},
   "outputs": [],
   "source": [
    "mvd_grouped = mvd_onehot.groupby('Neighborhood').mean().reset_index()"
   ]
  },
  {
   "cell_type": "code",
   "execution_count": null,
   "metadata": {},
   "outputs": [],
   "source": [
    "#Check new size\n",
    "mvd_grouped.shape"
   ]
  },
  {
   "cell_type": "markdown",
   "metadata": {},
   "source": [
    "### Print each neighborhood along with the top 5 most common venues"
   ]
  },
  {
   "cell_type": "code",
   "execution_count": null,
   "metadata": {},
   "outputs": [],
   "source": [
    "num_top_venues = 5\n",
    "\n",
    "for hood in mvd_grouped['Neighborhood']:\n",
    "    print(\"----\"+hood+\"----\")\n",
    "    temp = mvd_grouped[mvd_grouped['Neighborhood'] == hood].T.reset_index()\n",
    "    temp.columns = ['venue','freq']\n",
    "    temp = temp.iloc[1:]\n",
    "    temp['freq'] = temp['freq'].astype(float)\n",
    "    temp = temp.round({'freq': 2})\n",
    "    print(temp.sort_values('freq', ascending=False).reset_index(drop=True).head(num_top_venues))\n",
    "    print('\\n')"
   ]
  },
  {
   "cell_type": "markdown",
   "metadata": {},
   "source": [
    "### Put into a *pandas* dataframe"
   ]
  },
  {
   "cell_type": "code",
   "execution_count": null,
   "metadata": {},
   "outputs": [],
   "source": [
    "#Create a function to sort the venues in descending order\n",
    "def return_most_common_venues(row, num_top_venues):\n",
    "    row_categories = row.iloc[1:]\n",
    "    row_categories_sorted = row_categories.sort_values(ascending=False)\n",
    "    \n",
    "    return row_categories_sorted.index.values[0:num_top_venues]"
   ]
  },
  {
   "cell_type": "code",
   "execution_count": null,
   "metadata": {},
   "outputs": [],
   "source": [
    "#Create the new dataframe and display the top 4 venues for each neighborhood\n",
    "num_top_venues = 4\n",
    "\n",
    "indicators = ['st', 'nd', 'rd']\n",
    "\n",
    "# create columns according to number of top venues\n",
    "columns = ['Neighborhood']\n",
    "for ind in np.arange(num_top_venues):\n",
    "    try:\n",
    "        columns.append('{}{} Most Common Venue'.format(ind+1, indicators[ind]))\n",
    "    except:\n",
    "        columns.append('{}th Most Common Venue'.format(ind+1))\n",
    "\n",
    "# create a new dataframe\n",
    "neighborhoods_venues_sorted = pd.DataFrame(columns=columns)\n",
    "neighborhoods_venues_sorted['Neighborhood'] = mvd_grouped['Neighborhood']\n",
    "\n",
    "for ind in np.arange(mvd_grouped.shape[0]):\n",
    "    neighborhoods_venues_sorted.iloc[ind, 1:] = return_most_common_venues(mvd_grouped.iloc[ind, :], num_top_venues)\n",
    "\n",
    "neighborhoods_venues_sorted.head()"
   ]
  },
  {
   "cell_type": "markdown",
   "metadata": {},
   "source": [
    "### Cluster Neighborhoods"
   ]
  },
  {
   "cell_type": "code",
   "execution_count": null,
   "metadata": {},
   "outputs": [],
   "source": [
    "#Run k-means to cluster the neighborhood into 5 clusters.\n",
    "\n",
    "# set number of clusters\n",
    "kclusters = 5\n",
    "\n",
    "mvd_grouped_clustering = mvd_grouped.drop('Neighborhood', 1)\n",
    "\n",
    "# run k-means clustering\n",
    "kmeans = KMeans(n_clusters=kclusters, random_state=0).fit(mvd_grouped_clustering)\n",
    "\n",
    "# check cluster labels generated for each row in the dataframe\n",
    "kmeans.labels_[0:10] "
   ]
  },
  {
   "cell_type": "markdown",
   "metadata": {},
   "source": [
    "### Create a new dataframe that includes the cluster as well as the top 4 venues for each neighborhood."
   ]
  },
  {
   "cell_type": "code",
   "execution_count": null,
   "metadata": {},
   "outputs": [],
   "source": [
    "#Create a new dataframe that includes the cluster as well as the top 10 venues for each neighborhood.\n",
    "\n",
    "# add clustering labels\n",
    "neighborhoods_venues_sorted.insert(0, 'Cluster Labels', kmeans.labels_)\n",
    "\n",
    "mvd_merged = df_mvd\n",
    "\n",
    "# merge toronto_grouped with toronto_data to add latitude/longitude for each neighborhood\n",
    "mvd_merged = mvd_merged.join(neighborhoods_venues_sorted.set_index('Neighborhood'), on='Neighborhood')\n",
    "\n",
    "# Change null values to 0 in 'Cluster Labels' column\n",
    "mvd_merged['Cluster Labels'].fillna(value=0, inplace=True)\n",
    "\n",
    "# Change float values to integer values in 'Cluster Labels' column\n",
    "mvd_merged['Cluster Labels'] = mvd_merged['Cluster Labels'].astype(int)\n",
    "\n",
    "mvd_merged.head() # check the last columns!"
   ]
  },
  {
   "cell_type": "code",
   "execution_count": null,
   "metadata": {},
   "outputs": [],
   "source": []
  },
  {
   "cell_type": "markdown",
   "metadata": {},
   "source": [
    "### Visualize the resulting clusters"
   ]
  },
  {
   "cell_type": "code",
   "execution_count": null,
   "metadata": {},
   "outputs": [],
   "source": [
    "#In order to define an instance of the geocoder, we need to define a user_agent. We will name our agent to_explorer, as shown below.\n",
    "\n",
    "address = 'Montevideo, Uruguay'\n",
    "\n",
    "geolocator = Nominatim(user_agent=\"to_explorer\")\n",
    "location = geolocator.geocode(address)\n",
    "latitude = location.latitude\n",
    "longitude = location.longitude\n",
    "print('The geograpical coordinate of Montevideo, Uruguay are {}, {}.'.format(latitude, longitude))"
   ]
  },
  {
   "cell_type": "markdown",
   "metadata": {},
   "source": [
    "### Create Map"
   ]
  },
  {
   "cell_type": "code",
   "execution_count": null,
   "metadata": {},
   "outputs": [],
   "source": [
    "# create map\n",
    "map_clusters = folium.Map(location=[latitude, longitude], zoom_start=11)\n",
    "\n",
    "# set color scheme for the clusters\n",
    "x = np.arange(kclusters)\n",
    "ys = [i + x + (i*x)**2 for i in range(kclusters)]\n",
    "colors_array = cm.rainbow(np.linspace(0, 1, len(ys)))\n",
    "rainbow = [colors.rgb2hex(i) for i in colors_array]\n",
    "\n",
    "# add markers to the map\n",
    "markers_colors = []\n",
    "for lat, lon, poi, cluster in zip(mvd_merged['Latitude'], mvd_merged['Longitude'], mvd_merged['Neighborhood'], mvd_merged['Cluster Labels']):\n",
    "    label = folium.Popup(str(poi) + ' Cluster ' + str(cluster), parse_html=True)\n",
    "    folium.CircleMarker(\n",
    "        [lat, lon],\n",
    "        radius=5,\n",
    "        popup=label,\n",
    "        color=rainbow[cluster-1],\n",
    "        fill=True,\n",
    "        fill_color=rainbow[cluster-1],\n",
    "        fill_opacity=0.7).add_to(map_clusters)\n",
    "       \n",
    "map_clusters"
   ]
  },
  {
   "cell_type": "markdown",
   "metadata": {},
   "source": [
    "### Examine Clusters"
   ]
  },
  {
   "cell_type": "code",
   "execution_count": null,
   "metadata": {},
   "outputs": [],
   "source": [
    "#Cluster 1\n",
    "mvd_merged.loc[mvd_merged['Cluster Labels'] == 0, mvd_merged.columns[[1] + list(range(5, mvd_merged.shape[1]))]]"
   ]
  },
  {
   "cell_type": "code",
   "execution_count": null,
   "metadata": {},
   "outputs": [],
   "source": [
    "#Cluster 2\n",
    "mvd_merged.loc[mvd_merged['Cluster Labels'] == 1, mvd_merged.columns[[1] + list(range(5, mvd_merged.shape[1]))]]"
   ]
  },
  {
   "cell_type": "code",
   "execution_count": null,
   "metadata": {},
   "outputs": [],
   "source": [
    "#Cluster 3\n",
    "mvd_merged.loc[mvd_merged['Cluster Labels'] == 2, mvd_merged.columns[[1] + list(range(5, mvd_merged.shape[1]))]]"
   ]
  },
  {
   "cell_type": "code",
   "execution_count": null,
   "metadata": {},
   "outputs": [],
   "source": [
    "#Cluster 4\n",
    "mvd_merged.loc[mvd_merged['Cluster Labels'] == 3, mvd_merged.columns[[1] + list(range(5, mvd_merged.shape[1]))]]"
   ]
  },
  {
   "cell_type": "code",
   "execution_count": null,
   "metadata": {},
   "outputs": [],
   "source": [
    "#Cluster 5\n",
    "mvd_merged.loc[mvd_merged['Cluster Labels'] == 4, mvd_merged.columns[[1] + list(range(5, mvd_merged.shape[1]))]]"
   ]
  },
  {
   "cell_type": "markdown",
   "metadata": {},
   "source": [
    "###  Mean Distance from Mean coordinates"
   ]
  },
  {
   "cell_type": "code",
   "execution_count": null,
   "metadata": {},
   "outputs": [],
   "source": [
    "nh = 'Tres Cruces'\n",
    "\n",
    "mvd_venues_m = mvd_venues[mvd_venues['Neighborhood']=='Tres Cruces']\n",
    "venues_mean_coor = [mvd_venues_m['Venue Latitude'].mean(), mvd_venues_m['Venue Longitude'].mean()] \n",
    "\n",
    "print(nh)\n",
    "print(\"Mean Distance from Mean coordinates\")\n",
    "dists = np.apply_along_axis(lambda x: np.linalg.norm(x - venues_mean_coor),1,mvd_venues_m[['Venue Latitude','Venue Longitude']].values)\n",
    "dists.sort()\n",
    "print(np.mean(dists[:-1]))# Ignore the biggest distance"
   ]
  },
  {
   "cell_type": "code",
   "execution_count": null,
   "metadata": {},
   "outputs": [],
   "source": [
    "nh = 'Ciudad Vieja'\n",
    "\n",
    "mvd_venues_m = mvd_venues[mvd_venues['Neighborhood']=='Ciudad Vieja']\n",
    "venues_mean_coor = [mvd_venues_m['Venue Latitude'].mean(), mvd_venues_m['Venue Longitude'].mean()] \n",
    "\n",
    "print(nh)\n",
    "print(\"Mean Distance from Mean coordinates\")\n",
    "dists = np.apply_along_axis(lambda x: np.linalg.norm(x - venues_mean_coor),1,mvd_venues_m[['Venue Latitude','Venue Longitude']].values)\n",
    "dists.sort()\n",
    "print(np.mean(dists[:-1]))# Ignore the biggest distance"
   ]
  },
  {
   "cell_type": "code",
   "execution_count": null,
   "metadata": {},
   "outputs": [],
   "source": [
    "nh = 'Cordon'\n",
    "\n",
    "mvd_venues_m = mvd_venues[mvd_venues['Neighborhood']=='Cordon']\n",
    "venues_mean_coor = [mvd_venues_m['Venue Latitude'].mean(), mvd_venues_m['Venue Longitude'].mean()] \n",
    "\n",
    "print(nh)\n",
    "print(\"Mean Distance from Mean coordinates\")\n",
    "dists = np.apply_along_axis(lambda x: np.linalg.norm(x - venues_mean_coor),1,mvd_venues_m[['Venue Latitude','Venue Longitude']].values)\n",
    "dists.sort()\n",
    "print(np.mean(dists[:-1]))# Ignore the biggest distance"
   ]
  },
  {
   "cell_type": "code",
   "execution_count": null,
   "metadata": {},
   "outputs": [],
   "source": [
    "nh = 'La Comercial'\n",
    "\n",
    "mvd_venues_m = mvd_venues[mvd_venues['Neighborhood']=='La Comercial']\n",
    "venues_mean_coor = [mvd_venues_m['Venue Latitude'].mean(), mvd_venues_m['Venue Longitude'].mean()] \n",
    "\n",
    "print(nh)\n",
    "print(\"Mean Distance from Mean coordinates\")\n",
    "dists = np.apply_along_axis(lambda x: np.linalg.norm(x - venues_mean_coor),1,mvd_venues_m[['Venue Latitude','Venue Longitude']].values)\n",
    "dists.sort()\n",
    "print(np.mean(dists[:-1]))# Ignore the biggest distance"
   ]
  },
  {
   "cell_type": "code",
   "execution_count": null,
   "metadata": {},
   "outputs": [],
   "source": [
    "nh = 'Aguada'\n",
    "\n",
    "mvd_venues_m = mvd_venues[mvd_venues['Neighborhood']=='Aguada']\n",
    "venues_mean_coor = [mvd_venues_m['Venue Latitude'].mean(), mvd_venues_m['Venue Longitude'].mean()] \n",
    "\n",
    "print(nh)\n",
    "print(\"Mean Distance from Mean coordinates\")\n",
    "dists = np.apply_along_axis(lambda x: np.linalg.norm(x - venues_mean_coor),1,mvd_venues_m[['Venue Latitude','Venue Longitude']].values)\n",
    "dists.sort()\n",
    "print(np.mean(dists[:-1]))# Ignore the biggest distance"
   ]
  }
 ],
 "metadata": {
  "kernelspec": {
   "display_name": "Python 3",
   "language": "python",
   "name": "python3"
  },
  "language_info": {
   "codemirror_mode": {
    "name": "ipython",
    "version": 3
   },
   "file_extension": ".py",
   "mimetype": "text/x-python",
   "name": "python",
   "nbconvert_exporter": "python",
   "pygments_lexer": "ipython3",
   "version": "3.8.16"
  }
 },
 "nbformat": 4,
 "nbformat_minor": 4
}
