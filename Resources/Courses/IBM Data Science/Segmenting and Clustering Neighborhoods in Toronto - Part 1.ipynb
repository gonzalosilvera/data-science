{
 "cells": [
  {
   "cell_type": "markdown",
   "metadata": {},
   "source": [
    "# Segmenting and Clustering Neighborhoods in Toronto"
   ]
  },
  {
   "cell_type": "markdown",
   "metadata": {},
   "source": [
    "# Part 1"
   ]
  },
  {
   "cell_type": "markdown",
   "metadata": {},
   "source": [
    "### Import pandas"
   ]
  },
  {
   "cell_type": "code",
   "execution_count": 60,
   "metadata": {},
   "outputs": [],
   "source": [
    "#Install lxml\n",
    "pip install lxml\n",
    "\n",
    "#Import pandas\n",
    "import pandas as pd"
   ]
  },
  {
   "cell_type": "markdown",
   "metadata": {},
   "source": [
    "### Read data from url"
   ]
  },
  {
   "cell_type": "code",
   "execution_count": 86,
   "metadata": {},
   "outputs": [],
   "source": [
    "#Store url in link\n",
    "link = 'https://en.wikipedia.org/wiki/List_of_postal_codes_of_Canada:_M'\n",
    "\n",
    "#Read the table into a pandas dataframe\n",
    "df = pd.read_html(link)[0]"
   ]
  },
  {
   "cell_type": "markdown",
   "metadata": {},
   "source": [
    "### Rename dataframe columns"
   ]
  },
  {
   "cell_type": "code",
   "execution_count": 87,
   "metadata": {},
   "outputs": [],
   "source": [
    "#Store columns name in headers\n",
    "headers = ['PostalCode', 'Borough', 'Neighborhood']\n",
    "\n",
    "#Rename dataframe columns\n",
    "df.columns = headers"
   ]
  },
  {
   "cell_type": "markdown",
   "metadata": {},
   "source": [
    "### Ignore not assigned borough cells"
   ]
  },
  {
   "cell_type": "code",
   "execution_count": 91,
   "metadata": {},
   "outputs": [],
   "source": [
    "#Store in dataframe rows where borough is not assigned\n",
    "df = df[df['Borough']!='Not assigned']"
   ]
  },
  {
   "cell_type": "markdown",
   "metadata": {},
   "source": [
    "### Combined rows with equal postal code"
   ]
  },
  {
   "cell_type": "code",
   "execution_count": 92,
   "metadata": {},
   "outputs": [
    {
     "data": {
      "text/plain": [
       "PostalCode\n",
       "M1B                                      Malvern / Rouge\n",
       "M1C             Rouge Hill / Port Union / Highland Creek\n",
       "M1E                  Guildwood / Morningside / West Hill\n",
       "M1G                                               Woburn\n",
       "M1H                                            Cedarbrae\n",
       "                             ...                        \n",
       "M9N                                               Weston\n",
       "M9P                                            Westmount\n",
       "M9R    Kingsview Village / St. Phillips / Martin Grov...\n",
       "M9V    South Steeles / Silverstone / Humbergate / Jam...\n",
       "M9W                                            Northwest\n",
       "Name: Neighborhood, Length: 103, dtype: object"
      ]
     },
     "execution_count": 92,
     "metadata": {},
     "output_type": "execute_result"
    }
   ],
   "source": [
    "#Combined rows with equal \"PostalCode\" values and apply function to each 'Neighborhood' cell  \n",
    "df.groupby('PostalCode')['Neighborhood'].apply(lambda x: \"%s\" % ', '.join(x))"
   ]
  },
  {
   "cell_type": "markdown",
   "metadata": {},
   "source": [
    "### Replace not assigned cells in Neighborhood"
   ]
  },
  {
   "cell_type": "code",
   "execution_count": 93,
   "metadata": {},
   "outputs": [],
   "source": [
    "#Replace 'Not assigned' cells in 'Neighborhood' with 'Borough' names\n",
    "df['Neighborhood'] = df['Neighborhood'].replace('Not assigned', df['Borough'])"
   ]
  },
  {
   "cell_type": "markdown",
   "metadata": {},
   "source": [
    "### Print number of rows"
   ]
  },
  {
   "cell_type": "code",
   "execution_count": 95,
   "metadata": {},
   "outputs": [
    {
     "name": "stdout",
     "output_type": "stream",
     "text": [
      "103\n"
     ]
    }
   ],
   "source": [
    "print(df.shape[0])"
   ]
  }
 ],
 "metadata": {
  "kernelspec": {
   "display_name": "Python 3",
   "language": "python",
   "name": "python3"
  },
  "language_info": {
   "codemirror_mode": {
    "name": "ipython",
    "version": 3
   },
   "file_extension": ".py",
   "mimetype": "text/x-python",
   "name": "python",
   "nbconvert_exporter": "python",
   "pygments_lexer": "ipython3",
   "version": "3.8.2"
  }
 },
 "nbformat": 4,
 "nbformat_minor": 4
}
