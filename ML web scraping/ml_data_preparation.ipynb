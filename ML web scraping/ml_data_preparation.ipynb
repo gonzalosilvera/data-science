{
 "cells": [
  {
   "cell_type": "markdown",
   "metadata": {},
   "source": [
    "# MercadoLibre\n",
    "## Data Preparation"
   ]
  },
  {
   "cell_type": "markdown",
   "metadata": {},
   "source": [
    "Imports"
   ]
  },
  {
   "cell_type": "code",
   "execution_count": 4,
   "metadata": {},
   "outputs": [],
   "source": [
    "import pandas as pd"
   ]
  },
  {
   "cell_type": "markdown",
   "metadata": {},
   "source": [
    "Data preparation"
   ]
  },
  {
   "cell_type": "code",
   "execution_count": null,
   "metadata": {},
   "outputs": [],
   "source": [
    "# Read csv file\n",
    "ml_df = pd.read_csv('./data/mercadolibre_listings.csv')\n",
    "\n",
    "# Replace US$ and $ for USD and UYU\n",
    "ml_df['currency'] = ml_df['currency'].replace({'US$': 'USD', '$': 'UYU'})\n",
    "\n",
    "# Replace strings for numbers\n",
    "ml_df['price'] = pd.to_numeric(ml_df['price'].str.replace('.', '', regex=False))\n",
    "\n",
    "# Split columns in minimum and maximum values\n",
    "def create_maxmin(df, colname, cmin, cmax, r1, r2):\n",
    "    df[colname] = df[colname].str.replace(r1, \"\", regex=False)\n",
    "    df[colname] = df[colname].str.replace(\"s\", \"\", regex=False)\n",
    "    df[[cmin, cmax]] = df[colname].str.split(r2, 1, expand=True)\n",
    "    df[cmin] = pd.to_numeric(df[cmin].str.replace('.', '', regex=False))\n",
    "    df[cmax] = pd.to_numeric(df[cmax].str.replace('.', '', regex=False))\n",
    "    df = df.drop(colname, axis=1)\n",
    "    df[cmin] = df[cmin].fillna(df[cmax])\n",
    "    df[cmax] = df[cmax].fillna(df[cmin])\n",
    "    return df\n",
    "\n",
    "ml_df = create_maxmin(ml_df, \"rooms\", 'rmin', 'rmax', \" dormitorio\", \" a \") # Rooms\n",
    "ml_df = create_maxmin(ml_df, \"bathrooms\", 'bmin', 'bmax', \" baño\", \" a \") # Bathrooms\n",
    "ml_df = create_maxmin(ml_df, \"size\", 'smin', 'smax', \" m² cubierto\", \" - \") # Size\n",
    "\n",
    "ml_df.head()"
   ]
  }
 ],
 "metadata": {
  "kernelspec": {
   "display_name": "python",
   "language": "python",
   "name": "python3"
  },
  "language_info": {
   "codemirror_mode": {
    "name": "ipython",
    "version": 3
   },
   "file_extension": ".py",
   "mimetype": "text/x-python",
   "name": "python",
   "nbconvert_exporter": "python",
   "pygments_lexer": "ipython3",
   "version": "3.8.16"
  }
 },
 "nbformat": 4,
 "nbformat_minor": 2
}
