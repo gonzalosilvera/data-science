{
 "cells": [
  {
   "cell_type": "markdown",
   "metadata": {},
   "source": [
    "# MercadoLibre web scraping"
   ]
  },
  {
   "cell_type": "markdown",
   "metadata": {},
   "source": [
    "Imports"
   ]
  },
  {
   "cell_type": "code",
   "execution_count": null,
   "metadata": {},
   "outputs": [],
   "source": [
    "import requests\n",
    "import pandas as pd\n",
    "from bs4 import BeautifulSoup"
   ]
  },
  {
   "cell_type": "markdown",
   "metadata": {},
   "source": [
    "Request"
   ]
  },
  {
   "cell_type": "code",
   "execution_count": null,
   "metadata": {},
   "outputs": [],
   "source": [
    "# Fetch page data\n",
    "def fetch_page_data(url):\n",
    "    response = requests.get(url)\n",
    "    if response.status_code == 200:\n",
    "        soup = BeautifulSoup(response.text, 'html.parser')\n",
    "        return soup\n",
    "    else:\n",
    "        print(f\"Failed to retrieve page with status code {response.status_code}\")\n",
    "        return None"
   ]
  },
  {
   "cell_type": "markdown",
   "metadata": {},
   "source": [
    "Page list"
   ]
  },
  {
   "cell_type": "code",
   "execution_count": null,
   "metadata": {},
   "outputs": [],
   "source": [
    "# Get products data from page\n",
    "def get_page_list(data):\n",
    "    page_list = []\n",
    "    for page_item in data:\n",
    "        title = page_item.select_one('h2.poly-box').get_text(strip=True)\n",
    "        currency = page_item.select_one('span.andes-money-amount__currency-symbol').get_text(strip=True)\n",
    "        price = page_item.select_one('span.andes-money-amount__fraction').get_text(strip=True)\n",
    "        location = page_item.select_one('span.poly-component__location').get_text(strip=True)\n",
    "        url = page_item.select_one('a.poly-component__title').get('href')\n",
    "        attributes = page_item.select('li.poly-attributes-list__item')\n",
    "        rooms, bathrooms, size = '', '', ''\n",
    "        for attributes_item in attributes:\n",
    "            item_text = attributes_item.get_text(strip=True)\n",
    "            if 'dormitorio' in item_text:\n",
    "                rooms = item_text\n",
    "            elif 'baño' in item_text:\n",
    "                bathrooms = item_text\n",
    "            elif 'cubierto' in item_text:\n",
    "                size = item_text\n",
    "        page_list.append({\n",
    "            'title': title,\n",
    "            'currency': currency,\n",
    "            'price': price,\n",
    "            'location': location,\n",
    "            'rooms': rooms,\n",
    "            'bathrooms': bathrooms,\n",
    "            'size': size,\n",
    "            'url': url,\n",
    "        })     \n",
    "    return page_list"
   ]
  },
  {
   "cell_type": "markdown",
   "metadata": {},
   "source": [
    "Pages"
   ]
  },
  {
   "cell_type": "code",
   "execution_count": null,
   "metadata": {},
   "outputs": [],
   "source": [
    "# Scrape all pages\n",
    "def scrape_all_pages():\n",
    "    base_url = \"https://listado.mercadolibre.com.uy/inmuebles/casas/venta/\"\n",
    "    all_pages = []\n",
    "    items_count = 0\n",
    "    while True:\n",
    "        url = f\"{base_url}_Desde_{items_count}_NoIndex_True\"\n",
    "        soup = fetch_page_data(url)\n",
    "        page_data = soup.find_all(\"div\", {\"class\": 'ui-search-result__wrapper'})\n",
    "        if len(page_data) != 0:\n",
    "            page_list = get_page_list(page_data)\n",
    "            all_pages.extend(page_list)\n",
    "            items_count += 48\n",
    "        else:\n",
    "            break\n",
    "    return all_pages"
   ]
  },
  {
   "cell_type": "markdown",
   "metadata": {},
   "source": [
    "Export Excel file"
   ]
  },
  {
   "cell_type": "code",
   "execution_count": null,
   "metadata": {},
   "outputs": [],
   "source": [
    "# Export dataframe to CSV and XLSX file\n",
    "def export_dataframe(data):\n",
    "    dataframe = pd.DataFrame(data)\n",
    "    dataframe.to_excel(\"./data/mercadolibre_listings.xlsx\", index=False)\n",
    "    dataframe.to_csv(\"./data/mercadolibre_listings.csv\", index=False)\n",
    "    print(\"File exported\")"
   ]
  },
  {
   "cell_type": "markdown",
   "metadata": {},
   "source": [
    "Execute function"
   ]
  },
  {
   "cell_type": "code",
   "execution_count": null,
   "metadata": {},
   "outputs": [],
   "source": [
    "# Execute function and export to CSV and XLSX file\n",
    "export_dataframe(scrape_all_pages())\n"
   ]
  },
  {
   "cell_type": "markdown",
   "metadata": {},
   "source": [
    "Prepare data"
   ]
  },
  {
   "cell_type": "code",
   "execution_count": null,
   "metadata": {},
   "outputs": [],
   "source": [
    "# Read csv file\n",
    "ml_df = pd.read_csv('mercadolibre_listings.csv')\n",
    "ml_df.head()\n",
    "\n",
    "# Replace US$ and $ for USD and UYU\n",
    "ml_df['currency'] = ml_df['currency'].replace({'US$': 'USD', '$': 'UYU'})\n",
    "\n",
    "# Replace strings for numbers\n",
    "ml_df['price'] = pd.to_numeric(ml_df['price'].str.replace('.', '', regex=False))\n",
    "\n",
    "# Split columns in minimum and maximum values\n",
    "def create_maxmin(df, colname, cmin, cmax, r1, r2):\n",
    "    df[colname] = df[colname].str.replace(r1, \"\", regex=False)\n",
    "    df[colname] = df[colname].str.replace(\"s\", \"\", regex=False)\n",
    "    df[[cmin, cmax]] = df[colname].str.split(r2, 1, expand=True)\n",
    "    df[cmin] = pd.to_numeric(df[cmin].str.replace('.', '', regex=False))\n",
    "    df[cmax] = pd.to_numeric(df[cmax].str.replace('.', '', regex=False))\n",
    "    df = df.drop(colname, axis=1)\n",
    "    df[cmin] = df[cmin].fillna(df[cmax])\n",
    "    df[cmax] = df[cmax].fillna(df[cmin])\n",
    "    return df\n",
    "\n",
    "ml_df = create_maxmin(ml_df, \"rooms\", 'rmin', 'rmax', \" dormitorio\", \" a \") # Rooms\n",
    "ml_df = create_maxmin(ml_df, \"bathrooms\", 'bmin', 'bmax', \" baño\", \" a \") # Bathrooms\n",
    "ml_df = create_maxmin(ml_df, \"size\", 'smin', 'smax', \" m² cubierto\", \" - \") # Size\n",
    "\n",
    "ml_df.head()"
   ]
  }
 ],
 "metadata": {
  "kernelspec": {
   "display_name": "python",
   "language": "python",
   "name": "python3"
  },
  "language_info": {
   "codemirror_mode": {
    "name": "ipython",
    "version": 3
   },
   "file_extension": ".py",
   "mimetype": "text/x-python",
   "name": "python",
   "nbconvert_exporter": "python",
   "pygments_lexer": "ipython3",
   "version": "3.8.16"
  }
 },
 "nbformat": 4,
 "nbformat_minor": 2
}
