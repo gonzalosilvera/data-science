{
 "cells": [
  {
   "cell_type": "markdown",
   "metadata": {},
   "source": [
    "# MercadoLibre web scraping"
   ]
  },
  {
   "cell_type": "markdown",
   "metadata": {},
   "source": [
    "Imports"
   ]
  },
  {
   "cell_type": "code",
   "execution_count": null,
   "metadata": {},
   "outputs": [],
   "source": [
    "import requests\n",
    "import pandas as pd\n",
    "from bs4 import BeautifulSoup"
   ]
  },
  {
   "cell_type": "markdown",
   "metadata": {},
   "source": [
    "Request"
   ]
  },
  {
   "cell_type": "code",
   "execution_count": null,
   "metadata": {},
   "outputs": [],
   "source": [
    "def fetch_page_data(url):\n",
    "    response = requests.get(url)\n",
    "    if response.status_code == 200:\n",
    "        soup = BeautifulSoup(response.text, 'html.parser')\n",
    "        return soup\n",
    "    else:\n",
    "        print(f\"Failed to retrieve page with status code {response.status_code}\")\n",
    "        return None"
   ]
  },
  {
   "cell_type": "markdown",
   "metadata": {},
   "source": [
    "Page list"
   ]
  },
  {
   "cell_type": "code",
   "execution_count": null,
   "metadata": {},
   "outputs": [],
   "source": [
    "def get_page_list(data):\n",
    "    page_list = []\n",
    "    for page_item in data:\n",
    "        title = page_item.select_one('h2.poly-box').get_text(strip=True)\n",
    "        currency = page_item.select_one('span.andes-money-amount__currency-symbol').get_text(strip=True)\n",
    "        price = page_item.select_one('span.andes-money-amount__fraction').get_text(strip=True)\n",
    "        location = page_item.select_one('span.poly-component__location').get_text(strip=True)\n",
    "        attributes = page_item.select('li.poly-attributes-list__item')\n",
    "        rooms, bathrooms, size = '', '', ''\n",
    "        for attributes_item in attributes:\n",
    "            item_text = attributes_item.get_text(strip=True)\n",
    "            if 'dormitorio' in item_text:\n",
    "                rooms = item_text\n",
    "            elif 'baño' in item_text:\n",
    "                bathrooms = item_text\n",
    "            elif 'cubierto' in item_text:\n",
    "                size = item_text\n",
    "        page_list.append({\n",
    "            'title': title,\n",
    "            'currency': currency,\n",
    "            'price': price,\n",
    "            'location': location,\n",
    "            'rooms': rooms,\n",
    "            'bathrooms': bathrooms,\n",
    "            'size': size,\n",
    "        })     \n",
    "    return page_list"
   ]
  },
  {
   "cell_type": "markdown",
   "metadata": {},
   "source": [
    "Pages"
   ]
  },
  {
   "cell_type": "code",
   "execution_count": null,
   "metadata": {},
   "outputs": [],
   "source": [
    "def scrape_all_pages():\n",
    "    base_url = \"https://listado.mercadolibre.com.uy/inmuebles/casas/venta/\"\n",
    "    all_pages = []\n",
    "    items_count = 0\n",
    "    while True:\n",
    "        url = f\"{base_url}_Desde_{items_count}_NoIndex_True\"\n",
    "        soup = fetch_page_data(url)\n",
    "        page_data = soup.find_all(\"div\", {\"class\": 'ui-search-result__wrapper'})\n",
    "        if len(page_data) != 0:\n",
    "            page_list = get_page_list(page_data)\n",
    "            all_pages.extend(page_list)\n",
    "            items_count += 48\n",
    "        else:\n",
    "            break\n",
    "    return all_pages"
   ]
  },
  {
   "cell_type": "markdown",
   "metadata": {},
   "source": [
    "Export Excel file"
   ]
  },
  {
   "cell_type": "code",
   "execution_count": null,
   "metadata": {},
   "outputs": [],
   "source": [
    "def export_dataframe(data):\n",
    "    dataframe = pd.DataFrame(data)\n",
    "    dataframe.to_excel('mercadolibre_listings.xlsx')\n",
    "    print('File exported')"
   ]
  },
  {
   "cell_type": "markdown",
   "metadata": {},
   "source": [
    "Execute function"
   ]
  },
  {
   "cell_type": "code",
   "execution_count": null,
   "metadata": {},
   "outputs": [],
   "source": [
    "export_dataframe(scrape_all_pages())\n"
   ]
  }
 ],
 "metadata": {
  "kernelspec": {
   "display_name": "python",
   "language": "python",
   "name": "python3"
  },
  "language_info": {
   "codemirror_mode": {
    "name": "ipython",
    "version": 3
   },
   "file_extension": ".py",
   "mimetype": "text/x-python",
   "name": "python",
   "nbconvert_exporter": "python",
   "pygments_lexer": "ipython3",
   "version": "3.8.16"
  }
 },
 "nbformat": 4,
 "nbformat_minor": 2
}
