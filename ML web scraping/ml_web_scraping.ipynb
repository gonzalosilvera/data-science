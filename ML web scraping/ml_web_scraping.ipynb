{
 "cells": [
  {
   "cell_type": "markdown",
   "metadata": {},
   "source": [
    "# MercadoLibre web scraping"
   ]
  },
  {
   "cell_type": "markdown",
   "metadata": {},
   "source": [
    "Imports"
   ]
  },
  {
   "cell_type": "code",
   "execution_count": null,
   "metadata": {},
   "outputs": [],
   "source": [
    "import requests\n",
    "import pandas as pd\n",
    "from bs4 import BeautifulSoup"
   ]
  },
  {
   "cell_type": "markdown",
   "metadata": {},
   "source": [
    "Request"
   ]
  },
  {
   "cell_type": "code",
   "execution_count": null,
   "metadata": {},
   "outputs": [],
   "source": [
    "# Fetch page data\n",
    "def fetch_page_data(url):\n",
    "    response = requests.get(url)\n",
    "    if response.status_code == 200:\n",
    "        soup = BeautifulSoup(response.text, 'html.parser')\n",
    "        return soup\n",
    "    else:\n",
    "        print(f\"Failed to retrieve page with status code {response.status_code}\")\n",
    "        return None"
   ]
  },
  {
   "cell_type": "markdown",
   "metadata": {},
   "source": [
    "Page list"
   ]
  },
  {
   "cell_type": "code",
   "execution_count": null,
   "metadata": {},
   "outputs": [],
   "source": [
    "# Get products data from page\n",
    "def get_page_list(data):\n",
    "    page_list = []\n",
    "    for page_item in data:\n",
    "        title = page_item.select_one('h2.poly-box').get_text(strip=True)\n",
    "        currency = page_item.select_one('span.andes-money-amount__currency-symbol').get_text(strip=True)\n",
    "        price = page_item.select_one('span.andes-money-amount__fraction').get_text(strip=True)\n",
    "        location = page_item.select_one('span.poly-component__location').get_text(strip=True)\n",
    "        url = page_item.select_one('a.poly-component__title').get('href')\n",
    "        attributes = page_item.select('li.poly-attributes-list__item')\n",
    "        rooms, bathrooms, size = '', '', ''\n",
    "        for attributes_item in attributes:\n",
    "            item_text = attributes_item.get_text(strip=True)\n",
    "            if 'dormitorio' in item_text:\n",
    "                rooms = item_text\n",
    "            elif 'baño' in item_text:\n",
    "                bathrooms = item_text\n",
    "            elif 'cubierto' in item_text:\n",
    "                size = item_text\n",
    "        page_list.append({\n",
    "            'title': title,\n",
    "            'currency': currency,\n",
    "            'price': price,\n",
    "            'location': location,\n",
    "            'rooms': rooms,\n",
    "            'bathrooms': bathrooms,\n",
    "            'size': size,\n",
    "            'url': url,\n",
    "        })     \n",
    "    return page_list"
   ]
  },
  {
   "cell_type": "markdown",
   "metadata": {},
   "source": [
    "Pages"
   ]
  },
  {
   "cell_type": "code",
   "execution_count": null,
   "metadata": {},
   "outputs": [],
   "source": [
    "# Scrape all pages\n",
    "def scrape_all_pages():\n",
    "    base_url = \"https://listado.mercadolibre.com.uy/inmuebles/casas/venta/\"\n",
    "    all_pages = []\n",
    "    items_count = 0\n",
    "    while True:\n",
    "        url = f\"{base_url}_Desde_{items_count}_NoIndex_True\"\n",
    "        soup = fetch_page_data(url)\n",
    "        page_data = soup.find_all(\"div\", {\"class\": 'ui-search-result__wrapper'})\n",
    "        if len(page_data) != 0:\n",
    "            page_list = get_page_list(page_data)\n",
    "            all_pages.extend(page_list)\n",
    "            items_count += 48\n",
    "        else:\n",
    "            break\n",
    "    return all_pages"
   ]
  },
  {
   "cell_type": "markdown",
   "metadata": {},
   "source": [
    "Export Excel file"
   ]
  },
  {
   "cell_type": "code",
   "execution_count": null,
   "metadata": {},
   "outputs": [],
   "source": [
    "# Export dataframe to CSV and XLSX file\n",
    "def export_dataframe(data):\n",
    "    dataframe = pd.DataFrame(data)\n",
    "    dataframe.to_excel(\"./data/mercadolibre_listings.xlsx\", index=False)\n",
    "    dataframe.to_csv(\"./data/mercadolibre_listings.csv\", index=False)\n",
    "    print(\"File exported\")"
   ]
  },
  {
   "cell_type": "markdown",
   "metadata": {},
   "source": [
    "Execute function"
   ]
  },
  {
   "cell_type": "code",
   "execution_count": null,
   "metadata": {},
   "outputs": [],
   "source": [
    "# Execute function and export to CSV and XLSX file\n",
    "export_dataframe(scrape_all_pages())\n"
   ]
  },
  {
   "cell_type": "markdown",
   "metadata": {},
   "source": [
    "Prepare data"
   ]
  },
  {
   "cell_type": "code",
   "execution_count": 87,
   "metadata": {},
   "outputs": [
    {
     "name": "stderr",
     "output_type": "stream",
     "text": [
      "C:\\Users\\gonza\\AppData\\Local\\Temp\\ipykernel_6864\\4091765104.py:15: FutureWarning: In a future version of pandas all arguments of StringMethods.split except for the argument 'pat' will be keyword-only.\n",
      "  df[[cmin, cmax]] = df[colname].str.split(r2, 1, expand=True)\n",
      "C:\\Users\\gonza\\AppData\\Local\\Temp\\ipykernel_6864\\4091765104.py:15: FutureWarning: In a future version of pandas all arguments of StringMethods.split except for the argument 'pat' will be keyword-only.\n",
      "  df[[cmin, cmax]] = df[colname].str.split(r2, 1, expand=True)\n",
      "C:\\Users\\gonza\\AppData\\Local\\Temp\\ipykernel_6864\\4091765104.py:15: FutureWarning: In a future version of pandas all arguments of StringMethods.split except for the argument 'pat' will be keyword-only.\n",
      "  df[[cmin, cmax]] = df[colname].str.split(r2, 1, expand=True)\n"
     ]
    },
    {
     "data": {
      "text/html": [
       "<div>\n",
       "<style scoped>\n",
       "    .dataframe tbody tr th:only-of-type {\n",
       "        vertical-align: middle;\n",
       "    }\n",
       "\n",
       "    .dataframe tbody tr th {\n",
       "        vertical-align: top;\n",
       "    }\n",
       "\n",
       "    .dataframe thead th {\n",
       "        text-align: right;\n",
       "    }\n",
       "</style>\n",
       "<table border=\"1\" class=\"dataframe\">\n",
       "  <thead>\n",
       "    <tr style=\"text-align: right;\">\n",
       "      <th></th>\n",
       "      <th>title</th>\n",
       "      <th>currency</th>\n",
       "      <th>price</th>\n",
       "      <th>location</th>\n",
       "      <th>url</th>\n",
       "      <th>rmin</th>\n",
       "      <th>rmax</th>\n",
       "      <th>bmin</th>\n",
       "      <th>bmax</th>\n",
       "      <th>smin</th>\n",
       "      <th>smax</th>\n",
       "    </tr>\n",
       "  </thead>\n",
       "  <tbody>\n",
       "    <tr>\n",
       "      <th>0</th>\n",
       "      <td>Gardens View Solanas 100% Financiado</td>\n",
       "      <td>USD</td>\n",
       "      <td>505000</td>\n",
       "      <td>4XC2+FXF, Calandria, 20003 Punta Ballena, Depa...</td>\n",
       "      <td>https://casa.mercadolibre.com.uy/MLU-691254456...</td>\n",
       "      <td>2.0</td>\n",
       "      <td>3.0</td>\n",
       "      <td>3.0</td>\n",
       "      <td>3.0</td>\n",
       "      <td>160.0</td>\n",
       "      <td>191.0</td>\n",
       "    </tr>\n",
       "    <tr>\n",
       "      <th>1</th>\n",
       "      <td>Venta Casas 3 Y 4 Dormitorios A Estrenar. Pina...</td>\n",
       "      <td>USD</td>\n",
       "      <td>210000</td>\n",
       "      <td>Av Gral Leandro Gómez Esquina, Pinares, Maldonado</td>\n",
       "      <td>https://casa.mercadolibre.com.uy/MLU-640742423...</td>\n",
       "      <td>3.0</td>\n",
       "      <td>4.0</td>\n",
       "      <td>3.0</td>\n",
       "      <td>3.0</td>\n",
       "      <td>130.0</td>\n",
       "      <td>150.0</td>\n",
       "    </tr>\n",
       "    <tr>\n",
       "      <th>2</th>\n",
       "      <td>Venta Casas 3 Y 4 Dormitorios. Proyecto Calypt...</td>\n",
       "      <td>USD</td>\n",
       "      <td>350000</td>\n",
       "      <td>Niteroi 952, Barra De Carrasco, Canelones</td>\n",
       "      <td>https://casa.mercadolibre.com.uy/MLU-687629166...</td>\n",
       "      <td>3.0</td>\n",
       "      <td>4.0</td>\n",
       "      <td>2.0</td>\n",
       "      <td>3.0</td>\n",
       "      <td>102.0</td>\n",
       "      <td>189.0</td>\n",
       "    </tr>\n",
       "    <tr>\n",
       "      <th>3</th>\n",
       "      <td>Casas Premium A Construir Donde Quieras. Espec...</td>\n",
       "      <td>USD</td>\n",
       "      <td>267100</td>\n",
       "      <td>La Tahona Departamento De Canelones, Uruguay, ...</td>\n",
       "      <td>https://casa.mercadolibre.com.uy/MLU-640993147...</td>\n",
       "      <td>3.0</td>\n",
       "      <td>5.0</td>\n",
       "      <td>3.0</td>\n",
       "      <td>5.0</td>\n",
       "      <td>157.0</td>\n",
       "      <td>313.0</td>\n",
       "    </tr>\n",
       "    <tr>\n",
       "      <th>4</th>\n",
       "      <td>Living Golf, Barrio Cerrado En Punta Ballena</td>\n",
       "      <td>USD</td>\n",
       "      <td>310000</td>\n",
       "      <td>4WMW+3C Punta Ballena, Maldonado Department, U...</td>\n",
       "      <td>https://casa.mercadolibre.com.uy/MLU-673203584...</td>\n",
       "      <td>2.0</td>\n",
       "      <td>2.0</td>\n",
       "      <td>2.0</td>\n",
       "      <td>2.0</td>\n",
       "      <td>700.0</td>\n",
       "      <td>700.0</td>\n",
       "    </tr>\n",
       "  </tbody>\n",
       "</table>\n",
       "</div>"
      ],
      "text/plain": [
       "                                               title currency   price  \\\n",
       "0               Gardens View Solanas 100% Financiado      USD  505000   \n",
       "1  Venta Casas 3 Y 4 Dormitorios A Estrenar. Pina...      USD  210000   \n",
       "2  Venta Casas 3 Y 4 Dormitorios. Proyecto Calypt...      USD  350000   \n",
       "3  Casas Premium A Construir Donde Quieras. Espec...      USD  267100   \n",
       "4       Living Golf, Barrio Cerrado En Punta Ballena      USD  310000   \n",
       "\n",
       "                                            location  \\\n",
       "0  4XC2+FXF, Calandria, 20003 Punta Ballena, Depa...   \n",
       "1  Av Gral Leandro Gómez Esquina, Pinares, Maldonado   \n",
       "2          Niteroi 952, Barra De Carrasco, Canelones   \n",
       "3  La Tahona Departamento De Canelones, Uruguay, ...   \n",
       "4  4WMW+3C Punta Ballena, Maldonado Department, U...   \n",
       "\n",
       "                                                 url  rmin  rmax  bmin  bmax  \\\n",
       "0  https://casa.mercadolibre.com.uy/MLU-691254456...   2.0   3.0   3.0   3.0   \n",
       "1  https://casa.mercadolibre.com.uy/MLU-640742423...   3.0   4.0   3.0   3.0   \n",
       "2  https://casa.mercadolibre.com.uy/MLU-687629166...   3.0   4.0   2.0   3.0   \n",
       "3  https://casa.mercadolibre.com.uy/MLU-640993147...   3.0   5.0   3.0   5.0   \n",
       "4  https://casa.mercadolibre.com.uy/MLU-673203584...   2.0   2.0   2.0   2.0   \n",
       "\n",
       "    smin   smax  \n",
       "0  160.0  191.0  \n",
       "1  130.0  150.0  \n",
       "2  102.0  189.0  \n",
       "3  157.0  313.0  \n",
       "4  700.0  700.0  "
      ]
     },
     "execution_count": 87,
     "metadata": {},
     "output_type": "execute_result"
    }
   ],
   "source": [
    "# Read csv file\n",
    "ml_df = pd.read_csv('mercadolibre_listings.csv')\n",
    "ml_df.head()\n",
    "\n",
    "# Replace US$ and $ for USD and UYU\n",
    "ml_df['currency'] = ml_df['currency'].replace({'US$': 'USD', '$': 'UYU'})\n",
    "\n",
    "# Replace strings for numbers\n",
    "ml_df['price'] = pd.to_numeric(ml_df['price'].str.replace('.', '', regex=False))\n",
    "\n",
    "# Split columns in minimum and maximum values\n",
    "def create_maxmin(df, colname, cmin, cmax, r1, r2):\n",
    "    df[colname] = df[colname].str.replace(r1, \"\", regex=False)\n",
    "    df[colname] = df[colname].str.replace(\"s\", \"\", regex=False)\n",
    "    df[[cmin, cmax]] = df[colname].str.split(r2, 1, expand=True)\n",
    "    df[cmin] = pd.to_numeric(df[cmin].str.replace('.', '', regex=False))\n",
    "    df[cmax] = pd.to_numeric(df[cmax].str.replace('.', '', regex=False))\n",
    "    df = df.drop(colname, axis=1)\n",
    "    df[cmin] = df[cmin].fillna(df[cmax])\n",
    "    df[cmax] = df[cmax].fillna(df[cmin])\n",
    "    return df\n",
    "\n",
    "ml_df = create_maxmin(ml_df, \"rooms\", 'rmin', 'rmax', \" dormitorio\", \" a \") # Rooms\n",
    "ml_df = create_maxmin(ml_df, \"bathrooms\", 'bmin', 'bmax', \" baño\", \" a \") # Bathrooms\n",
    "ml_df = create_maxmin(ml_df, \"size\", 'smin', 'smax', \" m² cubierto\", \" - \") # Size\n",
    "\n",
    "ml_df.head()"
   ]
  }
 ],
 "metadata": {
  "kernelspec": {
   "display_name": "python",
   "language": "python",
   "name": "python3"
  },
  "language_info": {
   "codemirror_mode": {
    "name": "ipython",
    "version": 3
   },
   "file_extension": ".py",
   "mimetype": "text/x-python",
   "name": "python",
   "nbconvert_exporter": "python",
   "pygments_lexer": "ipython3",
   "version": "3.8.16"
  }
 },
 "nbformat": 4,
 "nbformat_minor": 2
}
